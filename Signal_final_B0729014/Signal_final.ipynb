{
 "cells": [
  {
   "cell_type": "code",
   "execution_count": 5,
   "metadata": {},
   "outputs": [],
   "source": [
    "import numpy as np\n",
    "import scipy.fftpack as fp\n",
    "\n",
    "import scipy.linalg  as lg"
   ]
  },
  {
   "cell_type": "code",
   "execution_count": 9,
   "metadata": {},
   "outputs": [
    {
     "data": {
      "text/plain": [
       "array([1.-0.j, 1.+0.j, 1.-0.j, 1.+0.j, 1.-0.j, 1.-0.j, 1.+0.j, 1.-0.j])"
      ]
     },
     "execution_count": 9,
     "metadata": {},
     "output_type": "execute_result"
    }
   ],
   "source": [
    "x= np.array([1,0,0,0,0,0,0,0])\n",
    "X= fp.fft(x)\n",
    "xx= fp.ifft(X)\n",
    "X"
   ]
  },
  {
   "cell_type": "code",
   "execution_count": 8,
   "metadata": {},
   "outputs": [
    {
     "data": {
      "text/plain": [
       "array([8.-0.j, 0.+0.j, 0.-0.j, 0.+0.j, 0.-0.j, 0.-0.j, 0.+0.j, 0.-0.j])"
      ]
     },
     "execution_count": 8,
     "metadata": {},
     "output_type": "execute_result"
    }
   ],
   "source": [
    "x= np.array([1,1,1,1,1,1,1,1])\n",
    "X= fp.fft(x)\n",
    "X"
   ]
  },
  {
   "cell_type": "code",
   "execution_count": 10,
   "metadata": {},
   "outputs": [
    {
     "data": {
      "text/plain": [
       "array([0.-0.j, 0.+0.j, 0.-0.j, 0.+0.j, 8.-0.j, 0.-0.j, 0.+0.j, 0.-0.j])"
      ]
     },
     "execution_count": 10,
     "metadata": {},
     "output_type": "execute_result"
    }
   ],
   "source": [
    "x= np.array([1,-1,1,-1,1,-1,1,-1])\n",
    "X= fp.fft(x)\n",
    "X"
   ]
  },
  {
   "cell_type": "code",
   "execution_count": 11,
   "metadata": {},
   "outputs": [
    {
     "data": {
      "text/plain": [
       "array([9.-0.j, 1.+0.j, 1.-0.j, 1.+0.j, 9.-0.j, 1.-0.j, 1.+0.j, 1.-0.j])"
      ]
     },
     "execution_count": 11,
     "metadata": {},
     "output_type": "execute_result"
    }
   ],
   "source": [
    "x= np.array([3,0,2,0,2,0,2,0])\n",
    "X= fp.fft(x)\n",
    "X"
   ]
  },
  {
   "cell_type": "code",
   "execution_count": 12,
   "metadata": {},
   "outputs": [
    {
     "data": {
      "text/plain": [
       "array([ 0.5      -0.j   ,  0.3017767-0.125j,  0.       +0.j   ,\n",
       "       -0.0517767+0.125j,  0.       -0.j   , -0.0517767-0.125j,\n",
       "        0.       -0.j   ,  0.3017767+0.125j])"
      ]
     },
     "execution_count": 12,
     "metadata": {},
     "output_type": "execute_result"
    }
   ],
   "source": [
    "x= np.array([1,1,0,0,0,0,1,1])\n",
    "X= fp.ifft(x)\n",
    "X"
   ]
  },
  {
   "cell_type": "code",
   "execution_count": 25,
   "metadata": {},
   "outputs": [],
   "source": [
    "\n",
    "a = [1,0,0,0,0,0,0,0]\n",
    "b = [1,1,1,1,1,1,1,1]\n",
    "c = [1,-1,1,-1,1,-1,1,-1]\n",
    "d = [3,0,2,0,2,0,2,0]\n",
    "\n",
    "dft_a = fp.dct(a)\n",
    "dft_b = fp.dct(b)\n",
    "dft_c = fp.dct(c)\n",
    "dft_d = fp.dct(d)\n",
    "\n",
    "f1 = [1,1,0,0,0,0,1,1]\n",
    "f2 = [1,1,0,0,0,0,0,1]\n",
    "\n",
    "idft_f1 = fp.idct(f1)\n",
    "idft_f2 = fp.idct(f2)\n",
    "\n",
    "g1 = [1,1,0,0]\n",
    "g2 = [1,1,0,0,0,0,0,0]\n",
    "\n",
    "dft_g1=fp.dct(g1)\n",
    "dft_g2=fp.dct(g2)"
   ]
  },
  {
   "cell_type": "code",
   "execution_count": 14,
   "metadata": {},
   "outputs": [
    {
     "data": {
      "text/plain": [
       "array([2.        , 1.96157056, 1.84775907, 1.66293922, 1.41421356,\n",
       "       1.11114047, 0.76536686, 0.39018064])"
      ]
     },
     "execution_count": 14,
     "metadata": {},
     "output_type": "execute_result"
    }
   ],
   "source": [
    "dft_a"
   ]
  },
  {
   "cell_type": "code",
   "execution_count": 15,
   "metadata": {},
   "outputs": [
    {
     "data": {
      "text/plain": [
       "array([16.,  0.,  0.,  0.,  0.,  0.,  0.,  0.])"
      ]
     },
     "execution_count": 15,
     "metadata": {},
     "output_type": "execute_result"
    }
   ],
   "source": [
    "dft_b"
   ]
  },
  {
   "cell_type": "code",
   "execution_count": 16,
   "metadata": {},
   "outputs": [
    {
     "data": {
      "text/plain": [
       "array([ 0.        ,  2.03918232,  0.        ,  2.40537955,  0.        ,\n",
       "        3.59990489,  0.        , 10.25166179])"
      ]
     },
     "execution_count": 16,
     "metadata": {},
     "output_type": "execute_result"
    }
   ],
   "source": [
    "dft_c"
   ]
  },
  {
   "cell_type": "code",
   "execution_count": 17,
   "metadata": {},
   "outputs": [
    {
     "data": {
      "text/plain": [
       "array([18.        ,  4.00075288,  1.84775907,  4.06831877,  1.41421356,\n",
       "        4.71104536,  0.76536686, 10.64184243])"
      ]
     },
     "execution_count": 17,
     "metadata": {},
     "output_type": "execute_result"
    }
   ],
   "source": [
    "dft_d"
   ]
  },
  {
   "cell_type": "code",
   "execution_count": 22,
   "metadata": {},
   "outputs": [
    {
     "data": {
      "text/plain": [
       "array([ 4.11711807, -0.29596031,  5.62183876, -1.33675678,  1.80602305,\n",
       "        0.07367937, -1.39955782, -0.58638434])"
      ]
     },
     "execution_count": 22,
     "metadata": {},
     "output_type": "execute_result"
    }
   ],
   "source": [
    "idft_f1"
   ]
  },
  {
   "cell_type": "code",
   "execution_count": 23,
   "metadata": {},
   "outputs": [
    {
     "data": {
      "text/plain": [
       "array([ 3.3517512 ,  1.55179876,  3.77407969, -0.57138992,  2.57138992,\n",
       "       -1.77407969,  0.44820124, -1.3517512 ])"
      ]
     },
     "execution_count": 23,
     "metadata": {},
     "output_type": "execute_result"
    }
   ],
   "source": [
    "idft_f2"
   ]
  },
  {
   "cell_type": "code",
   "execution_count": 26,
   "metadata": {},
   "outputs": [
    {
     "data": {
      "text/plain": [
       "array([ 4.        ,  2.61312593,  0.        , -1.0823922 ])"
      ]
     },
     "execution_count": 26,
     "metadata": {},
     "output_type": "execute_result"
    }
   ],
   "source": [
    "dft_g1"
   ]
  },
  {
   "cell_type": "code",
   "execution_count": 27,
   "metadata": {
    "scrolled": true
   },
   "outputs": [
    {
     "data": {
      "text/plain": [
       "array([ 4.        ,  3.62450979,  2.61312593,  1.27275858,  0.        ,\n",
       "       -0.85043009, -1.0823922 , -0.72095982])"
      ]
     },
     "execution_count": 27,
     "metadata": {},
     "output_type": "execute_result"
    }
   ],
   "source": [
    "dft_g2"
   ]
  },
  {
   "cell_type": "code",
   "execution_count": null,
   "metadata": {},
   "outputs": [],
   "source": [
    "1."
   ]
  },
  {
   "cell_type": "code",
   "execution_count": null,
   "metadata": {},
   "outputs": [],
   "source": [
    "(a)\n",
    "array([2.        , 1.96157056, 1.84775907, 1.66293922, 1.41421356,\n",
    "       1.11114047, 0.76536686, 0.39018064])"
   ]
  },
  {
   "cell_type": "code",
   "execution_count": null,
   "metadata": {},
   "outputs": [],
   "source": [
    "(b)\n",
    "array([16.,  0.,  0.,  0.,  0.,  0.,  0.,  0.])"
   ]
  },
  {
   "cell_type": "code",
   "execution_count": null,
   "metadata": {},
   "outputs": [],
   "source": [
    "(c)\n",
    "array([ 0.        ,  2.03918232,  0.        ,  2.40537955,  0.        ,\n",
    "        3.59990489,  0.        , 10.25166179])"
   ]
  },
  {
   "cell_type": "code",
   "execution_count": null,
   "metadata": {},
   "outputs": [],
   "source": [
    "(d)\n",
    "array([18.        ,  4.00075288,  1.84775907,  4.06831877,  1.41421356,\n",
    "        4.71104536,  0.76536686, 10.64184243])"
   ]
  },
  {
   "cell_type": "code",
   "execution_count": null,
   "metadata": {},
   "outputs": [],
   "source": [
    "(e)\n",
    "倒數"
   ]
  },
  {
   "cell_type": "code",
   "execution_count": null,
   "metadata": {},
   "outputs": [],
   "source": [
    "(f)\n",
    "f1=array([ 4.11711807, -0.29596031,  5.62183876, -1.33675678,  1.80602305,\n",
    "        0.07367937, -1.39955782, -0.58638434])\n",
    "f2=array([ 3.3517512 ,  1.55179876,  3.77407969, -0.57138992,  2.57138992,\n",
    "       -1.77407969,  0.44820124, -1.3517512 ])\n",
    "都不是實數"
   ]
  },
  {
   "cell_type": "code",
   "execution_count": null,
   "metadata": {},
   "outputs": [],
   "source": [
    "(g)\n",
    "g1=array([ 4.        ,  2.61312593,  0.        , -1.0823922 ])\n",
    "g2=array([ 4.        ,  3.62450979,  2.61312593,  1.27275858,  0.        ,\n",
    "       -0.85043009, -1.0823922 , -0.72095982])\n",
    "g2較g1多出 3.6245 , 1.2727 ,-0.8504 ,-0.7209\n",
    "因多出4個0導致"
   ]
  },
  {
   "cell_type": "code",
   "execution_count": null,
   "metadata": {},
   "outputs": [],
   "source": [
    "3."
   ]
  },
  {
   "cell_type": "code",
   "execution_count": null,
   "metadata": {},
   "outputs": [],
   "source": [
    "(a)(b)為圖檔，在github內，存本檔案的下方 (出去就看得到了)"
   ]
  }
 ],
 "metadata": {
  "kernelspec": {
   "display_name": "Python 3",
   "language": "python",
   "name": "python3"
  },
  "language_info": {
   "codemirror_mode": {
    "name": "ipython",
    "version": 3
   },
   "file_extension": ".py",
   "mimetype": "text/x-python",
   "name": "python",
   "nbconvert_exporter": "python",
   "pygments_lexer": "ipython3",
   "version": "3.7.6"
  }
 },
 "nbformat": 4,
 "nbformat_minor": 4
}
